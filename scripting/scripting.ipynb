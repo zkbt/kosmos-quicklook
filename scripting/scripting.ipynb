{
 "cells": [
  {
   "attachments": {},
   "cell_type": "markdown",
   "metadata": {},
   "source": [
    "# How do we run scripts? \n",
    "\n",
    "Often there's some repetive set of exposures that we want to take, where it's hard to automate through the TUI GUI. At this point, it might help to generate and run a script. One obvious use for scripts is for taking calibrations; once you're done observing on sky, you might use a script to run through a bunch of default calibrations using the internal calibration lamps.\n"
   ]
  },
  {
   "cell_type": "code",
   "execution_count": null,
   "metadata": {},
   "outputs": [],
   "source": [
    "from kosmoscraftroom.scripts import *"
   ]
  },
  {
   "attachments": {},
   "cell_type": "markdown",
   "metadata": {},
   "source": [
    "Create a `ScriptWriter` object to help make simple calibration scripts. \n",
    "\n",
    "- The `slits` and `dispersers` dictionaries define which slits/dispersers you want to calibrate, as well as the TUI drop-down menu positions for each. The dispersers are unlikely to change quickly, but the slits will probably change between different observing runs, so be sure to check these!\n",
    "- The `binning` keyword indicates what (x,y)-pixel binning is happening, necessary to adjust exposure times relative to their unbinned suggestions. "
   ]
  },
  {
   "cell_type": "code",
   "execution_count": null,
   "metadata": {},
   "outputs": [],
   "source": [
    "s = ScriptWriter(\n",
    "    slits={\"7.1-ctr\": 1, \"1.18-ctr\": 2},\n",
    "    dispersers={\"red\": 6, \"blue\": 3},\n",
    "    binning=[2, 2],\n",
    ")"
   ]
  },
  {
   "attachments": {},
   "cell_type": "markdown",
   "metadata": {},
   "source": [
    "Now, let's take some calibration data: a set of biases, some arc lamps, some quartz lamps, and more biases. "
   ]
  },
  {
   "cell_type": "code",
   "execution_count": null,
   "metadata": {},
   "outputs": [],
   "source": [
    "s.take_bias(n=5)\n",
    "for lamp in [\"neon\", \"argon\", \"krypton\"]:\n",
    "    s.take_lamps(lamp, n=3)\n",
    "s.take_lamps(\"quartz\", n=10)\n",
    "s.take_bias(n=5)"
   ]
  },
  {
   "attachments": {},
   "cell_type": "markdown",
   "metadata": {},
   "source": [
    "We can `print` the script to look at it..."
   ]
  },
  {
   "cell_type": "code",
   "execution_count": null,
   "metadata": {},
   "outputs": [],
   "source": [
    "s.print()"
   ]
  },
  {
   "attachments": {},
   "cell_type": "markdown",
   "metadata": {},
   "source": [
    "...or we can copy the script to the clipboard, making it easy to paste into the TUI `Run_Commands` window."
   ]
  },
  {
   "cell_type": "code",
   "execution_count": null,
   "metadata": {},
   "outputs": [],
   "source": [
    "s.copy()"
   ]
  },
  {
   "cell_type": "code",
   "execution_count": null,
   "metadata": {},
   "outputs": [],
   "source": [
    "s.take_bias(n=3)\n",
    "for lamp in [\"neon\", \"argon\", \"krypton\"]:\n",
    "    s.take_lamps(lamp, n=1)\n",
    "s.take_lamps(\"quartz\", n=10)\n",
    "s.take_bias(n=3)"
   ]
  },
  {
   "cell_type": "code",
   "execution_count": null,
   "metadata": {},
   "outputs": [],
   "source": [
    "s.copy()"
   ]
  },
  {
   "cell_type": "code",
   "execution_count": null,
   "metadata": {},
   "outputs": [],
   "source": []
  }
 ],
 "metadata": {
  "kernelspec": {
   "display_name": "Python 3 (ipykernel)",
   "language": "python",
   "name": "python3"
  },
  "language_info": {
   "codemirror_mode": {
    "name": "ipython",
    "version": 3
   },
   "file_extension": ".py",
   "mimetype": "text/x-python",
   "name": "python",
   "nbconvert_exporter": "python",
   "pygments_lexer": "ipython3",
   "version": "3.10.8"
  }
 },
 "nbformat": 4,
 "nbformat_minor": 2
}
