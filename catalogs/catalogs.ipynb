{
 "cells": [
  {
   "attachments": {},
   "cell_type": "markdown",
   "metadata": {},
   "source": [
    "# How do we create catalogs? \n",
    "\n",
    "We're often both busy and sleepy while observing, so entering details of individual targets one-by-one is an easy way for mistakes to happen. To remedy, this we can make target catalogs, where we've done the hard work of getting precise coordinates ahead of time, and can just select a target at the click of a button during the actual night!"
   ]
  },
  {
   "cell_type": "code",
   "execution_count": null,
   "metadata": {},
   "outputs": [],
   "source": [
    "from kosmoscraftroom.catalogs import *"
   ]
  },
  {
   "attachments": {},
   "cell_type": "markdown",
   "metadata": {},
   "source": [
    "## Make a catalog from a table of coordinates."
   ]
  },
  {
   "cell_type": "code",
   "execution_count": null,
   "metadata": {},
   "outputs": [],
   "source": [
    "names = [\"A\", \"B\", \"C\"]\n",
    "coordinates = SkyCoord(ra=[1, 2, 3] * u.hourangle, dec=[-1, 0, 1] * u.deg)\n",
    "table = Table(dict(names=names, sky_coordinates=coordinates))"
   ]
  },
  {
   "cell_type": "code",
   "execution_count": null,
   "metadata": {},
   "outputs": [],
   "source": [
    "tiny = TUICatalog(\"random-tiny-test\")\n",
    "tiny.from_table(table)"
   ]
  },
  {
   "cell_type": "code",
   "execution_count": null,
   "metadata": {},
   "outputs": [],
   "source": [
    "tiny"
   ]
  },
  {
   "attachments": {},
   "cell_type": "markdown",
   "metadata": {},
   "source": [
    "## Make a catalog from a previous TUI catalog. "
   ]
  },
  {
   "cell_type": "code",
   "execution_count": null,
   "metadata": {},
   "outputs": [],
   "source": [
    "tiny.to_TUI()"
   ]
  },
  {
   "cell_type": "code",
   "execution_count": null,
   "metadata": {},
   "outputs": [],
   "source": [
    "another_tiny = TUICatalog(name=\"another-tiny-test\")\n",
    "another_tiny.from_TUI(\"random-tiny-test.tui\")"
   ]
  },
  {
   "cell_type": "code",
   "execution_count": null,
   "metadata": {},
   "outputs": [],
   "source": [
    "another_tiny"
   ]
  },
  {
   "attachments": {},
   "cell_type": "markdown",
   "metadata": {},
   "source": [
    "## Make a catalog from an `exoatlas` population."
   ]
  },
  {
   "cell_type": "code",
   "execution_count": null,
   "metadata": {},
   "outputs": [],
   "source": [
    "from exoatlas import *\n",
    "\n",
    "\n",
    "# define some populations\n",
    "e = TransitingExoplanets()\n",
    "nearby = e[e.distance < 30 * u.pc]\n",
    "emission = e[e.emission_snr() > 20]\n",
    "reflection = e[e.reflection_snr() > 5]"
   ]
  },
  {
   "cell_type": "code",
   "execution_count": null,
   "metadata": {},
   "outputs": [],
   "source": [
    "n = TUICatalog(\"nearby\")\n",
    "n.from_exoatlas(nearby)\n",
    "\n",
    "e = TUICatalog(\"emission\")\n",
    "e.from_exoatlas(emission)\n",
    "\n",
    "r = TUICatalog(\"reflection\")\n",
    "r.from_exoatlas(reflection)"
   ]
  },
  {
   "cell_type": "code",
   "execution_count": null,
   "metadata": {},
   "outputs": [],
   "source": [
    "n, e, r"
   ]
  },
  {
   "attachments": {},
   "cell_type": "markdown",
   "metadata": {},
   "source": [
    "## Write catalog files for TUI and humans.\n",
    "\n",
    "Let' s make a different TUI catalog for each of our sub-samples. By loading them separately into TUI, they can have different colors. "
   ]
  },
  {
   "cell_type": "code",
   "execution_count": null,
   "metadata": {},
   "outputs": [],
   "source": [
    "for x in [n, e, r, standards]:\n",
    "    x.to_TUI()"
   ]
  },
  {
   "attachments": {},
   "cell_type": "markdown",
   "metadata": {},
   "source": [
    "Now, let's make a human-friendly catalog that smooshes all these entries together and sorted by RA. Because the human friendly catalog will have the names of the original catalogs included as extra columns, we'll be able to figure where we should look in TUI to select each one."
   ]
  },
  {
   "cell_type": "code",
   "execution_count": null,
   "metadata": {},
   "outputs": [],
   "source": [
    "combined = n + e + r + standards\n",
    "combined.to_human_friendly()"
   ]
  },
  {
   "attachments": {},
   "cell_type": "markdown",
   "metadata": {},
   "source": [
    "Now, we can load the `.tui` catalogs into TUI, print out the `.txt` file (with a monospace font), and have a great night observing!"
   ]
  }
 ],
 "metadata": {
  "kernelspec": {
   "display_name": "chromatic",
   "language": "python",
   "name": "python3"
  },
  "language_info": {
   "codemirror_mode": {
    "name": "ipython",
    "version": 3
   },
   "file_extension": ".py",
   "mimetype": "text/x-python",
   "name": "python",
   "nbconvert_exporter": "python",
   "pygments_lexer": "ipython3",
   "version": "3.10.8"
  },
  "orig_nbformat": 4
 },
 "nbformat": 4,
 "nbformat_minor": 2
}
