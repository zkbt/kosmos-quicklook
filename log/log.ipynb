{
 "cells": [
  {
   "attachments": {},
   "cell_type": "markdown",
   "metadata": {},
   "source": [
    "# How did the night go? \n",
    "\n",
    "In addition to our assiduously recorded observation logs during our observations, it can be useful to tools to go back and look at all the data that were gathered withn a given night. Let's have a quick tool for visualizing all the exposures (and their corresponding guide images).\n",
    "\n",
    "(coming soon!)"
   ]
  },
  {
   "attachments": {},
   "cell_type": "markdown",
   "metadata": {},
   "source": []
  }
 ],
 "metadata": {
  "language_info": {
   "name": "python"
  },
  "orig_nbformat": 4
 },
 "nbformat": 4,
 "nbformat_minor": 2
}
