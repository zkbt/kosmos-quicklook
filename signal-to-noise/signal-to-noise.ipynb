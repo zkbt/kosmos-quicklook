{
 "cells": [
  {
   "attachments": {},
   "cell_type": "markdown",
   "metadata": {},
   "source": [
    "# How do we predict S/N? \n",
    "\n",
    "We point our telescope at a target, acquire it in the slit, and start the guider. Now what? How long should we expose if we want to reach a particular signal-to-noise (S/N) ratio. \n",
    "\n",
    "(coming soon!)"
   ]
  }
 ],
 "metadata": {
  "language_info": {
   "name": "python"
  },
  "orig_nbformat": 4
 },
 "nbformat": 4,
 "nbformat_minor": 2
}
