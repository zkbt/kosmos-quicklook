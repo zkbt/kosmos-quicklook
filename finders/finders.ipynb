{
 "cells": [
  {
   "attachments": {},
   "cell_type": "markdown",
   "metadata": {},
   "source": [
    "# How do we acquire? \n",
    "\n",
    "Aligning the telescope slit to the correct position and rotation can be tricky. How can we be sure we have the right star? If we want multiple stars in the slit, how do we figure out the exact coordinates and rotation so they'll fit? "
   ]
  },
  {
   "attachments": {},
   "cell_type": "markdown",
   "metadata": {},
   "source": [
    "## Use Simbad for basic data + finders.\n",
    "\n",
    "To search for a star and find its basic properties and a finder chart from previous imaging, try to the [Simbad Identifier Query](http://simbad.cds.unistra.fr/simbad/sim-fid). Enter a star's name (from many different catalogs), and it will pull up its basic data along with some archival imaging of the field. It's a handy way to answer many basic questions you might have on the fly. "
   ]
  },
  {
   "attachments": {},
   "cell_type": "markdown",
   "metadata": {},
   "source": [
    "## Use Gaia for up-to-date star finder charts. \n",
    "\n",
    "For some observations, we might want to align two stars along the same slit, such as a target star and a comparison star. Thanks to [Gaia](https://gea.esac.esa.int/archive/), we generally have the data we need to figure this out. The interactive finder chart below "
   ]
  },
  {
   "cell_type": "code",
   "execution_count": null,
   "metadata": {},
   "outputs": [],
   "source": [
    "from kosmoscraftroom.finder import *"
   ]
  },
  {
   "attachments": {},
   "cell_type": "markdown",
   "metadata": {},
   "source": [
    "We can create `Finder` object that will search for and download Gaia stars near a target. Nearby stars might have [proper motions](https://en.wikipedia.org/wiki/Proper_motion) large enough that they will have moved from where Gaia measured them in 2016; this finder tries to propagate those motions to the time of your observation."
   ]
  },
  {
   "cell_type": "code",
   "execution_count": null,
   "metadata": {},
   "outputs": [],
   "source": [
    "f = Finder(\"GJ1214\")"
   ]
  },
  {
   "attachments": {},
   "cell_type": "markdown",
   "metadata": {},
   "source": [
    "To interactively explore the stars in this field, run `.interact`. It will bring up a plot of all the stars in the field. If you click to select two stars, it will give tell you the center and rotation needed in order to align those stars in the KOSMOS slit. (Sometimes the interactivity is a little flaky; we'll work on it!)"
   ]
  },
  {
   "cell_type": "code",
   "execution_count": null,
   "metadata": {},
   "outputs": [],
   "source": [
    "%matplotlib widget\n",
    "f.interact()"
   ]
  },
  {
   "attachments": {},
   "cell_type": "markdown",
   "metadata": {},
   "source": [
    "*(Some work to-do):*\n",
    "- Draw the slit (width + length). \n",
    "- Identify which stars are in the slit, print their info. \n",
    "- Calculate the total flux (= photon noise) of comparison stars along the slit. \n",
    "- Explore interaction on different platforms. Seems best in `jupyter notebook`, only halfway works in VSCode. \n"
   ]
  }
 ],
 "metadata": {
  "kernelspec": {
   "display_name": "Python 3 (ipykernel)",
   "language": "python",
   "name": "python3"
  },
  "language_info": {
   "codemirror_mode": {
    "name": "ipython",
    "version": 3
   },
   "file_extension": ".py",
   "mimetype": "text/x-python",
   "name": "python",
   "nbconvert_exporter": "python",
   "pygments_lexer": "ipython3",
   "version": "3.10.8"
  }
 },
 "nbformat": 4,
 "nbformat_minor": 2
}
