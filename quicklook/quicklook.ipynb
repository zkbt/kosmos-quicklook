{
 "cells": [
  {
   "attachments": {},
   "cell_type": "markdown",
   "metadata": {},
   "source": [
    "# How do we extract quick spectra? \n",
    "\n",
    "When we're observing, it's really useful to be able to translate a 2D spectroscopic image into a 1D extracted spectrum and associated statistics like S/N, saturation fraction, or sky brightness. \n",
    "\n",
    "(coming soon!)"
   ]
  }
 ],
 "metadata": {
  "language_info": {
   "name": "python"
  },
  "orig_nbformat": 4
 },
 "nbformat": 4,
 "nbformat_minor": 2
}
